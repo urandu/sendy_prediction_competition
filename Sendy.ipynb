{
 "cells": [
  {
   "cell_type": "markdown",
   "metadata": {},
   "source": [
    "## Sendy delivery time prediction challenge\n",
    "This is a zindi hosted competiotion to predict the delivery time of products given the sample data.\n",
    "\n",
    "The approach that I will take in this challenge is as outlined below\n",
    "- Visualize and explore the dataset\n",
    "- Select features to use\n",
    "- Train prediction model\n",
    "- Evaluate trained model\n",
    "- submit results"
   ]
  },
  {
   "cell_type": "code",
   "execution_count": 1,
   "metadata": {},
   "outputs": [
    {
     "name": "stdout",
     "output_type": "stream",
     "text": [
      "         Order No       User Id Vehicle Type  Platform Type  \\\n",
      "0   Order_No_4211   User_Id_633         Bike              3   \n",
      "1  Order_No_25375  User_Id_2285         Bike              3   \n",
      "2   Order_No_1899   User_Id_265         Bike              3   \n",
      "3   Order_No_9336  User_Id_1402         Bike              3   \n",
      "4  Order_No_27883  User_Id_1737         Bike              1   \n",
      "\n",
      "  Personal or Business  Placement - Day of Month  \\\n",
      "0             Business                         9   \n",
      "1             Personal                        12   \n",
      "2             Business                        30   \n",
      "3             Business                        15   \n",
      "4             Personal                        13   \n",
      "\n",
      "   Placement - Weekday (Mo = 1) Placement - Time  Confirmation - Day of Month  \\\n",
      "0                             5       9:35:46 AM                            9   \n",
      "1                             5      11:16:16 AM                           12   \n",
      "2                             2      12:39:25 PM                           30   \n",
      "3                             5       9:25:34 AM                           15   \n",
      "4                             1       9:55:18 AM                           13   \n",
      "\n",
      "   Confirmation - Weekday (Mo = 1)  ... Arrival at Destination - Time  \\\n",
      "0                                5  ...                   10:39:55 AM   \n",
      "1                                5  ...                   12:17:22 PM   \n",
      "2                                2  ...                    1:00:38 PM   \n",
      "3                                5  ...                   10:05:27 AM   \n",
      "4                                1  ...                   10:25:37 AM   \n",
      "\n",
      "   Distance (KM)  Temperature Precipitation in millimeters  Pickup Lat  \\\n",
      "0              4         20.4                          NaN   -1.317755   \n",
      "1             16         26.4                          NaN   -1.351453   \n",
      "2              3          NaN                          NaN   -1.308284   \n",
      "3              9         19.2                          NaN   -1.281301   \n",
      "4              9         15.4                          NaN   -1.266597   \n",
      "\n",
      "   Pickup Long Destination Lat  Destination Long      Rider Id  \\\n",
      "0    36.830370       -1.300406         36.829741  Rider_Id_432   \n",
      "1    36.899315       -1.295004         36.814358  Rider_Id_856   \n",
      "2    36.843419       -1.300921         36.828195  Rider_Id_155   \n",
      "3    36.832396       -1.257147         36.795063  Rider_Id_855   \n",
      "4    36.792118       -1.295041         36.809817  Rider_Id_770   \n",
      "\n",
      "  Time from Pickup to Arrival  \n",
      "0                         745  \n",
      "1                        1993  \n",
      "2                         455  \n",
      "3                        1341  \n",
      "4                        1214  \n",
      "\n",
      "[5 rows x 29 columns]\n"
     ]
    }
   ],
   "source": [
    "import pandas as pd\n",
    "import matplotlib.pyplot as plt\n",
    "%%matplotlib\n",
    "\n",
    "train_data = pd.read_csv('Train.csv')\n",
    "print(train_data.head())"
   ]
  },
  {
   "cell_type": "code",
   "execution_count": 4,
   "metadata": {},
   "outputs": [
    {
     "data": {
      "text/plain": [
       "Text(0, 0.5, 'Time from pick up to arrival')"
      ]
     },
     "execution_count": 4,
     "metadata": {},
     "output_type": "execute_result"
    },
    {
     "data": {
      "image/png": "[encoded data removed]",
      "text/plain": [
       "<Figure size 432x288 with 1 Axes>"
      ]
     },
     "metadata": {
      "needs_background": "light"
     },
     "output_type": "display_data"
    }
   ],
   "source": [
    "import matplotlib.pyplot as plt\n",
    "# %%matplotlib\n",
    "%matplotlib inline\n",
    "\n",
    "fig, ax = plt.subplots()\n",
    "ax.scatter(train_data['Distance (KM)'], train_data['Time from Pickup to Arrival'])\n",
    "ax.set_title('Time from pick up to arrival')\n",
    "ax.set_xlabel('Distance KM')\n",
    "ax.set_ylabel('Time from pick up to arrival')\n",
    "\n"
   ]
  },
  {
   "cell_type": "code",
   "execution_count": 6,
   "metadata": {},
   "outputs": [
    {
     "data": {
      "text/html": [
       "<div>\n",
       "<style scoped>\n",
       "    .dataframe tbody tr th:only-of-type {\n",
       "        vertical-align: middle;\n",
       "    }\n",
       "\n",
       "    .dataframe tbody tr th {\n",
       "        vertical-align: top;\n",
       "    }\n",
       "\n",
       "    .dataframe thead th {\n",
       "        text-align: right;\n",
       "    }\n",
       "</style>\n",
       "<table border=\"1\" class=\"dataframe\">\n",
       "  <thead>\n",
       "    <tr style=\"text-align: right;\">\n",
       "      <th></th>\n",
       "      <th>Distance (KM)</th>\n",
       "      <th>Time from Pickup to Arrival</th>\n",
       "    </tr>\n",
       "  </thead>\n",
       "  <tbody>\n",
       "    <tr>\n",
       "      <th>Distance (KM)</th>\n",
       "      <td>1.000000</td>\n",
       "      <td>0.580608</td>\n",
       "    </tr>\n",
       "    <tr>\n",
       "      <th>Time from Pickup to Arrival</th>\n",
       "      <td>0.580608</td>\n",
       "      <td>1.000000</td>\n",
       "    </tr>\n",
       "  </tbody>\n",
       "</table>\n",
       "</div>"
      ],
      "text/plain": [
       "                             Distance (KM)  Time from Pickup to Arrival\n",
       "Distance (KM)                     1.000000                     0.580608\n",
       "Time from Pickup to Arrival       0.580608                     1.000000"
      ]
     },
     "execution_count": 6,
     "metadata": {},
     "output_type": "execute_result"
    }
   ],
   "source": [
    "train_data[['Distance (KM)','Time from Pickup to Arrival']].corr()"
   ]
  }
 ],
 "metadata": {
  "kernelspec": {
   "display_name": "Python 3",
   "language": "python",
   "name": "python3"
  },
  "language_info": {
   "codemirror_mode": {
    "name": "ipython",
    "version": 3
   },
   "file_extension": ".py",
   "mimetype": "text/x-python",
   "name": "python",
   "nbconvert_exporter": "python",
   "pygments_lexer": "ipython3",
   "version": "3.7.3"
  }
 },
 "nbformat": 4,
 "nbformat_minor": 2
}
